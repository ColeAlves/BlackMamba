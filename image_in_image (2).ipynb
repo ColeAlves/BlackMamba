{
  "nbformat": 4,
  "nbformat_minor": 0,
  "metadata": {
    "colab": {
      "name": "image_in_image.ipynb",
      "provenance": [],
      "collapsed_sections": []
    },
    "kernelspec": {
      "name": "python3",
      "display_name": "Python 3"
    }
  },
  "cells": [
    {
      "cell_type": "code",
      "metadata": {
        "id": "vYOEsk9iH4_a",
        "colab_type": "code",
        "colab": {}
      },
      "source": [
        "from PIL import Image\n",
        "from functools import reduce\n",
        "import statistics\n",
        "import glob\n",
        "import os"
      ],
      "execution_count": 0,
      "outputs": []
    },
    {
      "cell_type": "markdown",
      "metadata": {
        "id": "9wgKDwd2KxT5",
        "colab_type": "text"
      },
      "source": [
        "\n",
        "\n",
        "---\n",
        "\n",
        "### Upload The Image\n",
        "\n",
        "---\n",
        "\n"
      ]
    },
    {
      "cell_type": "code",
      "metadata": {
        "id": "P_RXDMnKJabn",
        "colab_type": "code",
        "colab": {
          "resources": {
            "http://localhost:8080/nbextensions/google.colab/files.js": {
              "data": "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",
              "ok": true,
              "headers": [
                [
                  "content-type",
                  "application/javascript"
                ]
              ],
              "status": 200,
              "status_text": ""
            }
          },
          "base_uri": "https://localhost:8080/",
          "height": 75
        },
        "outputId": "69347530-0145-49bf-d90d-5d87f345150f"
      },
      "source": [
        "from google.colab import files\n",
        "parent_image = files.upload()"
      ],
      "execution_count": 2,
      "outputs": [
        {
          "output_type": "display_data",
          "data": {
            "text/html": [
              "\n",
              "     <input type=\"file\" id=\"files-f5b3d37f-6419-4c84-a253-625dd25b4472\" name=\"files[]\" multiple disabled />\n",
              "     <output id=\"result-f5b3d37f-6419-4c84-a253-625dd25b4472\">\n",
              "      Upload widget is only available when the cell has been executed in the\n",
              "      current browser session. Please rerun this cell to enable.\n",
              "      </output>\n",
              "      <script src=\"/nbextensions/google.colab/files.js\"></script> "
            ],
            "text/plain": [
              "<IPython.core.display.HTML object>"
            ]
          },
          "metadata": {
            "tags": []
          }
        },
        {
          "output_type": "stream",
          "text": [
            "Saving 57.jpg to 57.jpg\n"
          ],
          "name": "stdout"
        }
      ]
    },
    {
      "cell_type": "code",
      "metadata": {
        "id": "WdMcqEjZLCqN",
        "colab_type": "code",
        "colab": {}
      },
      "source": [
        "parent_image = Image.open('57.jpg','r')\n",
        "width, height = parent_image.size"
      ],
      "execution_count": 0,
      "outputs": []
    },
    {
      "cell_type": "markdown",
      "metadata": {
        "id": "qt0BxkQAAH_D",
        "colab_type": "text"
      },
      "source": [
        "\n",
        "\n",
        "---\n",
        "\n",
        "### Visualize The Block-Size\n",
        "\n",
        "---\n",
        "\n"
      ]
    },
    {
      "cell_type": "code",
      "metadata": {
        "id": "tIcp9GqW_xYh",
        "colab_type": "code",
        "colab": {
          "base_uri": "https://localhost:8080/",
          "height": 93
        },
        "outputId": "9e1e50aa-57b9-44a1-fe8c-f3dbf31b021f"
      },
      "source": [
        "left = 0\n",
        "top = 0\n",
        "right = round(width / 26)\n",
        "bottom = round(height / 15)\n",
        "\n",
        "block1 = parent_image.crop((left,top,right,bottom))\n",
        "print(\"top leftmost block:\\n=== ======== =====\")\n",
        "block1"
      ],
      "execution_count": 31,
      "outputs": [
        {
          "output_type": "stream",
          "text": [
            "top leftmost block:\n",
            "=== ======== =====\n"
          ],
          "name": "stdout"
        },
        {
          "output_type": "execute_result",
          "data": {
            "image/png": "[encoded data removed]",
            "text/plain": [
              "<PIL.Image.Image image mode=RGB size=41x41 at 0x7FC412360470>"
            ]
          },
          "metadata": {
            "tags": []
          },
          "execution_count": 31
        }
      ]
    },
    {
      "cell_type": "code",
      "metadata": {
        "id": "ax73358fKjHP",
        "colab_type": "code",
        "colab": {
          "base_uri": "https://localhost:8080/",
          "height": 35
        },
        "outputId": "686fcb11-5ef5-45c8-94d0-3eb3faba80d6"
      },
      "source": [
        "print(\"width of block:\", round(width / 26), \"height of block:\", round(height / 15))"
      ],
      "execution_count": 34,
      "outputs": [
        {
          "output_type": "stream",
          "text": [
            "width of block: 41 height of block: 41\n"
          ],
          "name": "stdout"
        }
      ]
    },
    {
      "cell_type": "markdown",
      "metadata": {
        "id": "lXX3LcLcFmb2",
        "colab_type": "text"
      },
      "source": [
        "\n",
        "\n",
        "---\n",
        "\n",
        "### Dimensions of The Image\n",
        "\n",
        "---\n",
        "\n"
      ]
    },
    {
      "cell_type": "code",
      "metadata": {
        "id": "M9LdadUdExbG",
        "colab_type": "code",
        "colab": {
          "base_uri": "https://localhost:8080/",
          "height": 35
        },
        "outputId": "4990b24a-a41c-4b14-ff4d-03e71d72a0bf"
      },
      "source": [
        "print(\"width of image:\", width, \"height of image:\", height)"
      ],
      "execution_count": 23,
      "outputs": [
        {
          "output_type": "stream",
          "text": [
            "width: 1067 height: 619\n"
          ],
          "name": "stdout"
        }
      ]
    },
    {
      "cell_type": "markdown",
      "metadata": {
        "id": "dabdfFXYFr_0",
        "colab_type": "text"
      },
      "source": [
        "\n",
        "\n",
        "---\n",
        "\n",
        "### Splitting The Image Into Blocks\n",
        "\n",
        "---\n",
        "\n"
      ]
    },
    {
      "cell_type": "code",
      "metadata": {
        "id": "rvXpQr8_VWFJ",
        "colab_type": "code",
        "colab": {}
      },
      "source": [
        "left = 0\n",
        "top = 0\n",
        "right = round(width / 26)\n",
        "bottom = round(height / 15)\n",
        "block_list = []\n",
        "block_list.append(parent_image.crop((left,top,right,bottom)))\n",
        "\n",
        "for x in range(0, width, 41):\n",
        "  for y in range(0, height, 41):\n",
        "    left = x\n",
        "    top = y\n",
        "    right = x + 41\n",
        "    bottom = y + 41\n",
        "    block = parent_image.crop((left,top,right,bottom))\n",
        "    block_list.append(block)"
      ],
      "execution_count": 0,
      "outputs": []
    },
    {
      "cell_type": "markdown",
      "metadata": {
        "id": "uKUG38_tXwN-",
        "colab_type": "text"
      },
      "source": [
        "\n",
        "\n",
        "---\n",
        "\n",
        "### Pulling The RGB Properties From Each Block\n",
        "\n",
        "---\n",
        "\n",
        "The blocks will be pulled from the parent image column by column, moving from the top-leftmost position, down to the bottom-leftmost, and continuing, moving left, along.\n",
        "\n",
        "---\n",
        "\n",
        "\n"
      ]
    },
    {
      "cell_type": "code",
      "metadata": {
        "id": "yr6zKLzwV23c",
        "colab_type": "code",
        "colab": {}
      },
      "source": [
        "def get_r(lst):\n",
        "  return [item[0] for item in lst]\n",
        "\n",
        "def get_g(lst):\n",
        "  return [item[1] for item in lst]\n",
        "\n",
        "def get_b(lst):\n",
        "  return [item[2] for item in lst]\n",
        "\n",
        "def average(lst): \n",
        "    return statistics.mean(lst) "
      ],
      "execution_count": 0,
      "outputs": []
    },
    {
      "cell_type": "code",
      "metadata": {
        "id": "ab6Mkts7e8YC",
        "colab_type": "code",
        "colab": {}
      },
      "source": [
        "r_block = []\n",
        "g_block = []\n",
        "b_block = []\n",
        "\n",
        "r_block_data = []\n",
        "g_block_data = []\n",
        "b_block_data = []\n",
        "\n",
        "r_block_list = []\n",
        "g_block_list = []\n",
        "b_block_list = []\n",
        "\n",
        "block = 0\n",
        "for block in range(len(block_list)):\n",
        "  active_block = list(block_list[block].getdata())\n",
        "  \n",
        "  r_block_data.append(get_r(active_block))\n",
        "  r_block_list.append(round(average(r_block_data[block])))\n",
        "\n",
        "  g_block_data.append(get_g(active_block))\n",
        "  g_block_list.append(round(average(g_block_data[block])))\n",
        "\n",
        "  b_block_data.append(get_b(active_block))\n",
        "  b_block_list.append(round(average(b_block_data[block])))\n",
        "\n",
        "  block = block + 1"
      ],
      "execution_count": 0,
      "outputs": []
    },
    {
      "cell_type": "code",
      "metadata": {
        "id": "aTTt80NJ7OrU",
        "colab_type": "code",
        "colab": {
          "base_uri": "https://localhost:8080/",
          "height": 69
        },
        "outputId": "b4462481-6fb0-4aba-d7a2-3e118071ca0a"
      },
      "source": [
        "print(\"length of r average values:\", len(r_block_list))\n",
        "print(\"length of g average values:\", len(g_block_list))\n",
        "print(\"length of b average values:\", len(b_block_list))"
      ],
      "execution_count": 74,
      "outputs": [
        {
          "output_type": "stream",
          "text": [
            "length of r average values: 433\n",
            "length of g average values: 433\n",
            "length of b average values: 433\n"
          ],
          "name": "stdout"
        }
      ]
    },
    {
      "cell_type": "code",
      "metadata": {
        "id": "k7Pi_GG2C3XX",
        "colab_type": "code",
        "colab": {
          "base_uri": "https://localhost:8080/",
          "height": 89
        },
        "outputId": "50bd230e-674d-4ca6-a1ba-4ba7d42e5e6a"
      },
      "source": [
        "print(\"the averages of r in blocks:\", r_block_list)\n",
        "print(\"the averages of g in blocks:\", g_block_list)\n",
        "print(\"the averages of b in blocks:\", b_block_list)"
      ],
      "execution_count": 75,
      "outputs": [
        {
          "output_type": "stream",
          "text": [
            "the averages of r in blocks: [237, 237, 240, 243, 243, 245, 244, 243, 244, 244, 246, 245, 243, 238, 227, 168, 13, 225, 214, 193, 190, 192, 195, 194, 212, 232, 229, 238, 236, 211, 137, 128, 13, 231, 211, 81, 89, 122, 88, 88, 172, 238, 240, 228, 183, 121, 113, 125, 12, 228, 207, 116, 177, 192, 169, 138, 164, 221, 221, 142, 110, 113, 112, 118, 12, 228, 220, 203, 199, 168, 154, 179, 175, 167, 128, 110, 112, 106, 119, 172, 19, 224, 194, 202, 208, 210, 213, 170, 149, 107, 114, 111, 110, 131, 196, 204, 19, 218, 196, 219, 200, 198, 192, 114, 125, 112, 151, 190, 188, 184, 185, 203, 19, 194, 53, 182, 191, 206, 174, 135, 125, 121, 131, 178, 187, 197, 200, 201, 19, 128, 111, 70, 182, 199, 128, 146, 127, 141, 180, 183, 181, 187, 188, 139, 10, 189, 179, 213, 206, 171, 122, 123, 157, 176, 179, 181, 181, 154, 112, 114, 11, 156, 122, 104, 86, 113, 138, 165, 182, 183, 177, 175, 127, 93, 104, 114, 12, 58, 146, 172, 146, 30, 7, 25, 153, 184, 151, 93, 85, 84, 94, 119, 15, 41, 110, 153, 143, 110, 100, 85, 62, 57, 63, 85, 85, 116, 124, 195, 21, 64, 90, 130, 176, 101, 138, 128, 164, 83, 55, 114, 115, 154, 196, 212, 20, 125, 65, 104, 102, 118, 138, 66, 44, 55, 88, 115, 200, 219, 214, 216, 20, 105, 166, 166, 135, 83, 140, 144, 69, 124, 148, 205, 206, 216, 214, 208, 17, 118, 131, 163, 109, 53, 139, 149, 171, 142, 173, 198, 222, 221, 193, 161, 15, 144, 35, 76, 13, 82, 157, 184, 125, 135, 225, 222, 212, 175, 146, 157, 15, 98, 108, 114, 120, 150, 197, 187, 160, 191, 214, 195, 155, 144, 141, 156, 15, 108, 123, 186, 171, 191, 218, 200, 212, 222, 181, 148, 142, 148, 139, 151, 15, 102, 103, 198, 210, 224, 208, 205, 212, 164, 149, 144, 142, 148, 138, 151, 16, 126, 200, 218, 224, 213, 191, 196, 186, 162, 145, 143, 146, 165, 141, 152, 16, 206, 214, 180, 122, 176, 177, 159, 179, 173, 156, 144, 151, 162, 146, 161, 16, 216, 220, 173, 169, 187, 176, 182, 196, 155, 155, 157, 153, 149, 155, 168, 16, 218, 213, 170, 149, 189, 202, 197, 183, 161, 156, 157, 153, 149, 149, 166, 16, 189, 148, 149, 153, 177, 167, 163, 159, 164, 165, 168, 157, 154, 153, 162, 16, 3, 4, 4, 4, 4, 4, 4, 4, 4, 4, 4, 4, 4, 3, 3, 0]\n",
            "the averages of g in blocks: [198, 198, 200, 205, 208, 210, 213, 213, 217, 217, 217, 216, 211, 204, 199, 194, 19, 176, 160, 193, 198, 199, 201, 201, 194, 200, 202, 206, 200, 199, 197, 197, 19, 189, 189, 152, 151, 140, 159, 162, 192, 201, 201, 192, 193, 199, 192, 194, 18, 186, 186, 160, 171, 156, 181, 168, 185, 196, 202, 198, 194, 195, 191, 190, 17, 184, 183, 186, 190, 207, 169, 175, 182, 188, 194, 197, 191, 191, 182, 111, 7, 182, 180, 169, 176, 177, 184, 180, 183, 190, 194, 193, 188, 161, 92, 73, 7, 179, 161, 182, 207, 212, 195, 186, 178, 185, 191, 190, 192, 190, 172, 75, 8, 176, 63, 167, 206, 211, 200, 186, 183, 173, 159, 72, 49, 55, 66, 73, 7, 142, 154, 76, 198, 205, 186, 180, 178, 107, 45, 48, 32, 24, 34, 41, 3, 166, 182, 202, 198, 192, 181, 154, 53, 25, 45, 64, 63, 28, 24, 31, 3, 180, 118, 98, 81, 116, 132, 55, 124, 144, 29, 94, 71, 20, 26, 31, 4, 111, 138, 144, 122, 9, 7, 10, 148, 185, 29, 18, 24, 18, 20, 35, 8, 78, 27, 82, 99, 23, 12, 33, 42, 21, 29, 40, 27, 83, 65, 135, 15, 117, 32, 44, 124, 55, 99, 71, 115, 37, 12, 95, 80, 114, 162, 159, 15, 27, 28, 51, 34, 9, 63, 29, 31, 15, 48, 91, 122, 141, 144, 158, 14, 13, 99, 124, 74, 22, 23, 160, 45, 60, 86, 128, 136, 140, 139, 153, 15, 33, 99, 158, 83, 43, 23, 159, 138, 138, 153, 144, 130, 136, 154, 183, 18, 37, 25, 83, 12, 15, 95, 156, 161, 127, 137, 133, 138, 168, 190, 189, 17, 25, 53, 38, 12, 61, 157, 146, 151, 142, 139, 151, 181, 193, 189, 191, 18, 35, 61, 152, 144, 167, 135, 138, 145, 145, 160, 190, 190, 194, 189, 190, 18, 21, 28, 127, 138, 137, 140, 143, 154, 181, 192, 191, 195, 196, 189, 189, 18, 62, 136, 139, 134, 145, 168, 191, 194, 198, 193, 195, 196, 190, 190, 190, 18, 129, 137, 135, 134, 150, 178, 178, 186, 200, 193, 195, 191, 195, 192, 192, 19, 133, 135, 129, 172, 180, 170, 170, 188, 200, 201, 198, 198, 197, 194, 193, 19, 131, 141, 181, 197, 195, 195, 181, 197, 206, 203, 177, 191, 199, 194, 193, 19, 146, 188, 198, 199, 199, 202, 201, 204, 207, 209, 202, 203, 203, 198, 195, 19, 4, 5, 5, 5, 5, 5, 5, 5, 5, 5, 5, 5, 5, 5, 5, 0]\n",
            "the averages of b in blocks: [73, 73, 64, 66, 75, 80, 82, 83, 75, 65, 54, 54, 59, 58, 58, 117, 15, 117, 155, 109, 129, 130, 128, 125, 122, 93, 98, 58, 57, 80, 155, 168, 16, 63, 106, 115, 123, 140, 118, 112, 118, 46, 43, 65, 111, 176, 172, 168, 16, 56, 100, 130, 158, 165, 147, 124, 137, 91, 71, 144, 177, 177, 172, 169, 15, 48, 65, 141, 142, 115, 104, 132, 152, 159, 177, 181, 172, 176, 161, 67, 2, 46, 118, 113, 96, 93, 120, 163, 187, 202, 188, 181, 174, 139, 38, 15, 2, 48, 47, 54, 191, 207, 123, 203, 202, 202, 177, 161, 170, 168, 145, 16, 2, 68, 42, 91, 203, 198, 205, 196, 191, 168, 167, 85, 63, 44, 28, 13, 2, 89, 130, 50, 195, 198, 208, 181, 194, 128, 64, 68, 52, 39, 24, 58, 8, 62, 182, 203, 201, 207, 193, 170, 70, 38, 62, 82, 78, 58, 72, 86, 8, 175, 116, 94, 77, 101, 140, 84, 96, 109, 49, 107, 93, 66, 74, 85, 8, 133, 133, 141, 109, 13, 8, 14, 106, 133, 46, 54, 49, 57, 66, 77, 6, 88, 33, 79, 92, 41, 27, 26, 44, 24, 43, 67, 53, 70, 58, 16, 1, 134, 42, 29, 97, 71, 86, 74, 114, 80, 37, 88, 69, 61, 58, 14, 1, 44, 30, 46, 45, 39, 95, 50, 34, 42, 66, 81, 21, 13, 11, 6, 1, 24, 85, 111, 79, 61, 71, 134, 52, 89, 84, 41, 28, 19, 13, 18, 5, 38, 72, 156, 109, 36, 55, 154, 161, 145, 89, 44, 11, 13, 52, 128, 13, 34, 32, 83, 11, 34, 104, 163, 143, 77, 7, 11, 33, 82, 126, 137, 13, 49, 68, 50, 41, 79, 79, 75, 83, 56, 18, 53, 115, 128, 124, 135, 13, 61, 76, 122, 126, 93, 37, 49, 29, 21, 78, 134, 132, 132, 122, 128, 13, 52, 49, 79, 74, 16, 58, 55, 40, 113, 136, 133, 139, 136, 121, 125, 13, 60, 54, 40, 11, 54, 170, 161, 169, 152, 135, 138, 141, 165, 125, 129, 14, 34, 43, 42, 79, 91, 171, 171, 178, 169, 151, 136, 134, 145, 129, 132, 13, 23, 16, 54, 111, 172, 180, 192, 196, 151, 148, 142, 144, 127, 125, 136, 14, 15, 25, 102, 138, 165, 174, 200, 178, 155, 154, 178, 160, 134, 119, 133, 14, 51, 124, 139, 142, 140, 157, 155, 152, 156, 159, 149, 149, 146, 132, 134, 14, 3, 3, 3, 3, 4, 4, 3, 3, 3, 4, 3, 3, 3, 3, 3, 0]\n"
          ],
          "name": "stdout"
        }
      ]
    },
    {
      "cell_type": "markdown",
      "metadata": {
        "id": "HGlGsJ4hEAW9",
        "colab_type": "text"
      },
      "source": [
        "\n",
        "\n",
        "---\n",
        "\n",
        "## Download Kaggle Dataset With a Neat Little Ditty\n",
        "\n",
        "---\n",
        "\n"
      ]
    },
    {
      "cell_type": "code",
      "metadata": {
        "id": "eSJUF-zsMb3f",
        "colab_type": "code",
        "colab": {}
      },
      "source": [
        "os.environ['KAGGLE_USERNAME'] = \"keenandrea\"\n",
        "os.environ['KAGGLE_KEY'] = \"df347d3b581e5cad8bda11ebdd72e9bb\""
      ],
      "execution_count": 0,
      "outputs": []
    },
    {
      "cell_type": "code",
      "metadata": {
        "id": "FpUXRC3yMdvQ",
        "colab_type": "code",
        "colab": {
          "base_uri": "https://localhost:8080/",
          "height": 211
        },
        "outputId": "9362452a-5e79-40c7-b7bd-d21206cf46cb"
      },
      "source": [
        "!kaggle datasets list -s painter"
      ],
      "execution_count": 19,
      "outputs": [
        {
          "output_type": "stream",
          "text": [
            "Warning: Looks like you're using an outdated API Version, please consider updating (server 1.5.6 / client 1.5.4)\n",
            "ref                                    title                         size  lastUpdated          downloadCount  \n",
            "-------------------------------------  ----------------------------  ----  -------------------  -------------  \n",
            "mfekadu/painter-test                   painter test                  11GB  2018-11-04 07:02:48             76  \n",
            "ikarus777/best-artworks-of-all-time    Best Artworks of All Time      2GB  2019-03-02 09:21:51           4586  \n",
            "mfekadu/painters-train-part-3          painter train part 3          12GB  2018-11-04 06:57:40             39  \n",
            "mfekadu/painters-train-part-1          painters train part 1         12GB  2018-11-04 06:11:05             90  \n",
            "jannesklaas/scifi-stories-text-corpus  SciFi Stories Text Corpus     56MB  2018-09-29 10:15:44            660  \n",
            "mfekadu/painters-train-part-2          painters train part 2         12GB  2018-11-04 06:17:37             30  \n",
            "gfolego/vangogh                        Vincent van Gogh's paintings  34KB  2016-08-26 14:24:33            423  \n"
          ],
          "name": "stdout"
        }
      ]
    },
    {
      "cell_type": "code",
      "metadata": {
        "id": "FFEMx0R7OqFW",
        "colab_type": "code",
        "colab": {
          "base_uri": "https://localhost:8080/",
          "height": 69
        },
        "outputId": "42257a77-f238-44d8-cebd-222e06eae27d"
      },
      "source": [
        "!kaggle datasets download -d ikarus777/best-artworks-of-all-time -p /content"
      ],
      "execution_count": 20,
      "outputs": [
        {
          "output_type": "stream",
          "text": [
            "Downloading best-artworks-of-all-time.zip to /content\n",
            "100% 2.16G/2.16G [00:55<00:00, 59.8MB/s]\n",
            "100% 2.16G/2.16G [00:55<00:00, 42.2MB/s]\n"
          ],
          "name": "stdout"
        }
      ]
    },
    {
      "cell_type": "code",
      "metadata": {
        "id": "Wos_m7OWQzcu",
        "colab_type": "code",
        "colab": {}
      },
      "source": [
        "!unzip -q best-artworks-of-all-time.zip"
      ],
      "execution_count": 0,
      "outputs": []
    },
    {
      "cell_type": "code",
      "metadata": {
        "id": "hD221bNBRmEB",
        "colab_type": "code",
        "colab": {}
      },
      "source": [
        "!unzip -q images.zip"
      ],
      "execution_count": 0,
      "outputs": []
    },
    {
      "cell_type": "code",
      "metadata": {
        "id": "cDj1BhK2SEwb",
        "colab_type": "code",
        "colab": {}
      },
      "source": [
        "fnames = glob.glob('images/Pablo_Picasso' + '/*.jpg')"
      ],
      "execution_count": 0,
      "outputs": []
    },
    {
      "cell_type": "code",
      "metadata": {
        "id": "9Yucjf8KEQLj",
        "colab_type": "code",
        "colab": {}
      },
      "source": [
        "child_image_list = []\n",
        "for f in fnames:\n",
        "  child_image_list.append(f)"
      ],
      "execution_count": 0,
      "outputs": []
    },
    {
      "cell_type": "code",
      "metadata": {
        "id": "0CyLi_A9GXMZ",
        "colab_type": "code",
        "colab": {
          "base_uri": "https://localhost:8080/",
          "height": 55
        },
        "outputId": "1d589926-f992-4451-d11a-5eba0c1c9e38"
      },
      "source": [
        "print(child_image_list)"
      ],
      "execution_count": 105,
      "outputs": [
        {
          "output_type": "stream",
          "text": [
            "['images/Pablo_Picasso/Pablo_Picasso_362.jpg', 'images/Pablo_Picasso/Pablo_Picasso_280.jpg', 'images/Pablo_Picasso/Pablo_Picasso_353.jpg', 'images/Pablo_Picasso/Pablo_Picasso_365.jpg', 'images/Pablo_Picasso/Pablo_Picasso_253.jpg', 'images/Pablo_Picasso/Pablo_Picasso_257.jpg', 'images/Pablo_Picasso/Pablo_Picasso_378.jpg', 'images/Pablo_Picasso/Pablo_Picasso_255.jpg', 'images/Pablo_Picasso/Pablo_Picasso_358.jpg', 'images/Pablo_Picasso/Pablo_Picasso_339.jpg', 'images/Pablo_Picasso/Pablo_Picasso_215.jpg', 'images/Pablo_Picasso/Pablo_Picasso_399.jpg', 'images/Pablo_Picasso/Pablo_Picasso_430.jpg', 'images/Pablo_Picasso/Pablo_Picasso_108.jpg', 'images/Pablo_Picasso/Pablo_Picasso_311.jpg', 'images/Pablo_Picasso/Pablo_Picasso_199.jpg', 'images/Pablo_Picasso/Pablo_Picasso_142.jpg', 'images/Pablo_Picasso/Pablo_Picasso_256.jpg', 'images/Pablo_Picasso/Pablo_Picasso_46.jpg', 'images/Pablo_Picasso/Pablo_Picasso_57.jpg', 'images/Pablo_Picasso/Pablo_Picasso_343.jpg', 'images/Pablo_Picasso/Pablo_Picasso_90.jpg', 'images/Pablo_Picasso/Pablo_Picasso_28.jpg', 'images/Pablo_Picasso/Pablo_Picasso_165.jpg', 'images/Pablo_Picasso/Pablo_Picasso_7.jpg', 'images/Pablo_Picasso/Pablo_Picasso_88.jpg', 'images/Pablo_Picasso/Pablo_Picasso_83.jpg', 'images/Pablo_Picasso/Pablo_Picasso_37.jpg', 'images/Pablo_Picasso/Pablo_Picasso_196.jpg', 'images/Pablo_Picasso/Pablo_Picasso_123.jpg', 'images/Pablo_Picasso/Pablo_Picasso_218.jpg', 'images/Pablo_Picasso/Pablo_Picasso_167.jpg', 'images/Pablo_Picasso/Pablo_Picasso_78.jpg', 'images/Pablo_Picasso/Pablo_Picasso_48.jpg', 'images/Pablo_Picasso/Pablo_Picasso_101.jpg', 'images/Pablo_Picasso/Pablo_Picasso_236.jpg', 'images/Pablo_Picasso/Pablo_Picasso_397.jpg', 'images/Pablo_Picasso/Pablo_Picasso_158.jpg', 'images/Pablo_Picasso/Pablo_Picasso_96.jpg', 'images/Pablo_Picasso/Pablo_Picasso_325.jpg', 'images/Pablo_Picasso/Pablo_Picasso_415.jpg', 'images/Pablo_Picasso/Pablo_Picasso_85.jpg', 'images/Pablo_Picasso/Pablo_Picasso_354.jpg', 'images/Pablo_Picasso/Pablo_Picasso_36.jpg', 'images/Pablo_Picasso/Pablo_Picasso_394.jpg', 'images/Pablo_Picasso/Pablo_Picasso_242.jpg', 'images/Pablo_Picasso/Pablo_Picasso_431.jpg', 'images/Pablo_Picasso/Pablo_Picasso_91.jpg', 'images/Pablo_Picasso/Pablo_Picasso_323.jpg', 'images/Pablo_Picasso/Pablo_Picasso_38.jpg', 'images/Pablo_Picasso/Pablo_Picasso_418.jpg', 'images/Pablo_Picasso/Pablo_Picasso_40.jpg', 'images/Pablo_Picasso/Pablo_Picasso_361.jpg', 'images/Pablo_Picasso/Pablo_Picasso_330.jpg', 'images/Pablo_Picasso/Pablo_Picasso_30.jpg', 'images/Pablo_Picasso/Pablo_Picasso_274.jpg', 'images/Pablo_Picasso/Pablo_Picasso_141.jpg', 'images/Pablo_Picasso/Pablo_Picasso_102.jpg', 'images/Pablo_Picasso/Pablo_Picasso_103.jpg', 'images/Pablo_Picasso/Pablo_Picasso_436.jpg', 'images/Pablo_Picasso/Pablo_Picasso_258.jpg', 'images/Pablo_Picasso/Pablo_Picasso_145.jpg', 'images/Pablo_Picasso/Pablo_Picasso_112.jpg', 'images/Pablo_Picasso/Pablo_Picasso_409.jpg', 'images/Pablo_Picasso/Pablo_Picasso_186.jpg', 'images/Pablo_Picasso/Pablo_Picasso_69.jpg', 'images/Pablo_Picasso/Pablo_Picasso_113.jpg', 'images/Pablo_Picasso/Pablo_Picasso_392.jpg', 'images/Pablo_Picasso/Pablo_Picasso_438.jpg', 'images/Pablo_Picasso/Pablo_Picasso_372.jpg', 'images/Pablo_Picasso/Pablo_Picasso_157.jpg', 'images/Pablo_Picasso/Pablo_Picasso_206.jpg', 'images/Pablo_Picasso/Pablo_Picasso_294.jpg', 'images/Pablo_Picasso/Pablo_Picasso_16.jpg', 'images/Pablo_Picasso/Pablo_Picasso_208.jpg', 'images/Pablo_Picasso/Pablo_Picasso_437.jpg', 'images/Pablo_Picasso/Pablo_Picasso_401.jpg', 'images/Pablo_Picasso/Pablo_Picasso_76.jpg', 'images/Pablo_Picasso/Pablo_Picasso_86.jpg', 'images/Pablo_Picasso/Pablo_Picasso_11.jpg', 'images/Pablo_Picasso/Pablo_Picasso_220.jpg', 'images/Pablo_Picasso/Pablo_Picasso_226.jpg', 'images/Pablo_Picasso/Pablo_Picasso_302.jpg', 'images/Pablo_Picasso/Pablo_Picasso_331.jpg', 'images/Pablo_Picasso/Pablo_Picasso_405.jpg', 'images/Pablo_Picasso/Pablo_Picasso_281.jpg', 'images/Pablo_Picasso/Pablo_Picasso_201.jpg', 'images/Pablo_Picasso/Pablo_Picasso_51.jpg', 'images/Pablo_Picasso/Pablo_Picasso_175.jpg', 'images/Pablo_Picasso/Pablo_Picasso_192.jpg', 'images/Pablo_Picasso/Pablo_Picasso_183.jpg', 'images/Pablo_Picasso/Pablo_Picasso_23.jpg', 'images/Pablo_Picasso/Pablo_Picasso_408.jpg', 'images/Pablo_Picasso/Pablo_Picasso_52.jpg', 'images/Pablo_Picasso/Pablo_Picasso_289.jpg', 'images/Pablo_Picasso/Pablo_Picasso_124.jpg', 'images/Pablo_Picasso/Pablo_Picasso_15.jpg', 'images/Pablo_Picasso/Pablo_Picasso_266.jpg', 'images/Pablo_Picasso/Pablo_Picasso_70.jpg', 'images/Pablo_Picasso/Pablo_Picasso_180.jpg', 'images/Pablo_Picasso/Pablo_Picasso_147.jpg', 'images/Pablo_Picasso/Pablo_Picasso_207.jpg', 'images/Pablo_Picasso/Pablo_Picasso_191.jpg', 'images/Pablo_Picasso/Pablo_Picasso_270.jpg', 'images/Pablo_Picasso/Pablo_Picasso_81.jpg', 'images/Pablo_Picasso/Pablo_Picasso_241.jpg', 'images/Pablo_Picasso/Pablo_Picasso_87.jpg', 'images/Pablo_Picasso/Pablo_Picasso_234.jpg', 'images/Pablo_Picasso/Pablo_Picasso_352.jpg', 'images/Pablo_Picasso/Pablo_Picasso_327.jpg', 'images/Pablo_Picasso/Pablo_Picasso_267.jpg', 'images/Pablo_Picasso/Pablo_Picasso_367.jpg', 'images/Pablo_Picasso/Pablo_Picasso_363.jpg', 'images/Pablo_Picasso/Pablo_Picasso_134.jpg', 'images/Pablo_Picasso/Pablo_Picasso_350.jpg', 'images/Pablo_Picasso/Pablo_Picasso_340.jpg', 'images/Pablo_Picasso/Pablo_Picasso_19.jpg', 'images/Pablo_Picasso/Pablo_Picasso_390.jpg', 'images/Pablo_Picasso/Pablo_Picasso_105.jpg', 'images/Pablo_Picasso/Pablo_Picasso_223.jpg', 'images/Pablo_Picasso/Pablo_Picasso_423.jpg', 'images/Pablo_Picasso/Pablo_Picasso_176.jpg', 'images/Pablo_Picasso/Pablo_Picasso_117.jpg', 'images/Pablo_Picasso/Pablo_Picasso_68.jpg', 'images/Pablo_Picasso/Pablo_Picasso_5.jpg', 'images/Pablo_Picasso/Pablo_Picasso_152.jpg', 'images/Pablo_Picasso/Pablo_Picasso_407.jpg', 'images/Pablo_Picasso/Pablo_Picasso_301.jpg', 'images/Pablo_Picasso/Pablo_Picasso_238.jpg', 'images/Pablo_Picasso/Pablo_Picasso_94.jpg', 'images/Pablo_Picasso/Pablo_Picasso_121.jpg', 'images/Pablo_Picasso/Pablo_Picasso_419.jpg', 'images/Pablo_Picasso/Pablo_Picasso_244.jpg', 'images/Pablo_Picasso/Pablo_Picasso_382.jpg', 'images/Pablo_Picasso/Pablo_Picasso_246.jpg', 'images/Pablo_Picasso/Pablo_Picasso_265.jpg', 'images/Pablo_Picasso/Pablo_Picasso_14.jpg', 'images/Pablo_Picasso/Pablo_Picasso_230.jpg', 'images/Pablo_Picasso/Pablo_Picasso_384.jpg', 'images/Pablo_Picasso/Pablo_Picasso_56.jpg', 'images/Pablo_Picasso/Pablo_Picasso_82.jpg', 'images/Pablo_Picasso/Pablo_Picasso_306.jpg', 'images/Pablo_Picasso/Pablo_Picasso_75.jpg', 'images/Pablo_Picasso/Pablo_Picasso_190.jpg', 'images/Pablo_Picasso/Pablo_Picasso_347.jpg', 'images/Pablo_Picasso/Pablo_Picasso_292.jpg', 'images/Pablo_Picasso/Pablo_Picasso_433.jpg', 'images/Pablo_Picasso/Pablo_Picasso_248.jpg', 'images/Pablo_Picasso/Pablo_Picasso_275.jpg', 'images/Pablo_Picasso/Pablo_Picasso_25.jpg', 'images/Pablo_Picasso/Pablo_Picasso_132.jpg', 'images/Pablo_Picasso/Pablo_Picasso_109.jpg', 'images/Pablo_Picasso/Pablo_Picasso_314.jpg', 'images/Pablo_Picasso/Pablo_Picasso_13.jpg', 'images/Pablo_Picasso/Pablo_Picasso_298.jpg', 'images/Pablo_Picasso/Pablo_Picasso_326.jpg', 'images/Pablo_Picasso/Pablo_Picasso_351.jpg', 'images/Pablo_Picasso/Pablo_Picasso_224.jpg', 'images/Pablo_Picasso/Pablo_Picasso_268.jpg', 'images/Pablo_Picasso/Pablo_Picasso_404.jpg', 'images/Pablo_Picasso/Pablo_Picasso_359.jpg', 'images/Pablo_Picasso/Pablo_Picasso_164.jpg', 'images/Pablo_Picasso/Pablo_Picasso_6.jpg', 'images/Pablo_Picasso/Pablo_Picasso_288.jpg', 'images/Pablo_Picasso/Pablo_Picasso_260.jpg', 'images/Pablo_Picasso/Pablo_Picasso_403.jpg', 'images/Pablo_Picasso/Pablo_Picasso_402.jpg', 'images/Pablo_Picasso/Pablo_Picasso_26.jpg', 'images/Pablo_Picasso/Pablo_Picasso_211.jpg', 'images/Pablo_Picasso/Pablo_Picasso_381.jpg', 'images/Pablo_Picasso/Pablo_Picasso_434.jpg', 'images/Pablo_Picasso/Pablo_Picasso_413.jpg', 'images/Pablo_Picasso/Pablo_Picasso_429.jpg', 'images/Pablo_Picasso/Pablo_Picasso_284.jpg', 'images/Pablo_Picasso/Pablo_Picasso_133.jpg', 'images/Pablo_Picasso/Pablo_Picasso_161.jpg', 'images/Pablo_Picasso/Pablo_Picasso_31.jpg', 'images/Pablo_Picasso/Pablo_Picasso_369.jpg', 'images/Pablo_Picasso/Pablo_Picasso_137.jpg', 'images/Pablo_Picasso/Pablo_Picasso_54.jpg', 'images/Pablo_Picasso/Pablo_Picasso_315.jpg', 'images/Pablo_Picasso/Pablo_Picasso_252.jpg', 'images/Pablo_Picasso/Pablo_Picasso_197.jpg', 'images/Pablo_Picasso/Pablo_Picasso_128.jpg', 'images/Pablo_Picasso/Pablo_Picasso_74.jpg', 'images/Pablo_Picasso/Pablo_Picasso_210.jpg', 'images/Pablo_Picasso/Pablo_Picasso_282.jpg', 'images/Pablo_Picasso/Pablo_Picasso_368.jpg', 'images/Pablo_Picasso/Pablo_Picasso_212.jpg', 'images/Pablo_Picasso/Pablo_Picasso_411.jpg', 'images/Pablo_Picasso/Pablo_Picasso_177.jpg', 'images/Pablo_Picasso/Pablo_Picasso_125.jpg', 'images/Pablo_Picasso/Pablo_Picasso_18.jpg', 'images/Pablo_Picasso/Pablo_Picasso_435.jpg', 'images/Pablo_Picasso/Pablo_Picasso_24.jpg', 'images/Pablo_Picasso/Pablo_Picasso_126.jpg', 'images/Pablo_Picasso/Pablo_Picasso_420.jpg', 'images/Pablo_Picasso/Pablo_Picasso_296.jpg', 'images/Pablo_Picasso/Pablo_Picasso_386.jpg', 'images/Pablo_Picasso/Pablo_Picasso_8.jpg', 'images/Pablo_Picasso/Pablo_Picasso_271.jpg', 'images/Pablo_Picasso/Pablo_Picasso_60.jpg', 'images/Pablo_Picasso/Pablo_Picasso_389.jpg', 'images/Pablo_Picasso/Pablo_Picasso_41.jpg', 'images/Pablo_Picasso/Pablo_Picasso_295.jpg', 'images/Pablo_Picasso/Pablo_Picasso_27.jpg', 'images/Pablo_Picasso/Pablo_Picasso_63.jpg', 'images/Pablo_Picasso/Pablo_Picasso_395.jpg', 'images/Pablo_Picasso/Pablo_Picasso_312.jpg', 'images/Pablo_Picasso/Pablo_Picasso_379.jpg', 'images/Pablo_Picasso/Pablo_Picasso_279.jpg', 'images/Pablo_Picasso/Pablo_Picasso_426.jpg', 'images/Pablo_Picasso/Pablo_Picasso_72.jpg', 'images/Pablo_Picasso/Pablo_Picasso_262.jpg', 'images/Pablo_Picasso/Pablo_Picasso_272.jpg', 'images/Pablo_Picasso/Pablo_Picasso_20.jpg', 'images/Pablo_Picasso/Pablo_Picasso_370.jpg', 'images/Pablo_Picasso/Pablo_Picasso_245.jpg', 'images/Pablo_Picasso/Pablo_Picasso_318.jpg', 'images/Pablo_Picasso/Pablo_Picasso_29.jpg', 'images/Pablo_Picasso/Pablo_Picasso_283.jpg', 'images/Pablo_Picasso/Pablo_Picasso_204.jpg', 'images/Pablo_Picasso/Pablo_Picasso_110.jpg', 'images/Pablo_Picasso/Pablo_Picasso_77.jpg', 'images/Pablo_Picasso/Pablo_Picasso_67.jpg', 'images/Pablo_Picasso/Pablo_Picasso_122.jpg', 'images/Pablo_Picasso/Pablo_Picasso_213.jpg', 'images/Pablo_Picasso/Pablo_Picasso_373.jpg', 'images/Pablo_Picasso/Pablo_Picasso_71.jpg', 'images/Pablo_Picasso/Pablo_Picasso_45.jpg', 'images/Pablo_Picasso/Pablo_Picasso_316.jpg', 'images/Pablo_Picasso/Pablo_Picasso_364.jpg', 'images/Pablo_Picasso/Pablo_Picasso_139.jpg', 'images/Pablo_Picasso/Pablo_Picasso_10.jpg', 'images/Pablo_Picasso/Pablo_Picasso_162.jpg', 'images/Pablo_Picasso/Pablo_Picasso_251.jpg', 'images/Pablo_Picasso/Pablo_Picasso_92.jpg', 'images/Pablo_Picasso/Pablo_Picasso_383.jpg', 'images/Pablo_Picasso/Pablo_Picasso_217.jpg', 'images/Pablo_Picasso/Pablo_Picasso_225.jpg', 'images/Pablo_Picasso/Pablo_Picasso_39.jpg', 'images/Pablo_Picasso/Pablo_Picasso_12.jpg', 'images/Pablo_Picasso/Pablo_Picasso_178.jpg', 'images/Pablo_Picasso/Pablo_Picasso_200.jpg', 'images/Pablo_Picasso/Pablo_Picasso_130.jpg', 'images/Pablo_Picasso/Pablo_Picasso_50.jpg', 'images/Pablo_Picasso/Pablo_Picasso_235.jpg', 'images/Pablo_Picasso/Pablo_Picasso_148.jpg', 'images/Pablo_Picasso/Pablo_Picasso_227.jpg', 'images/Pablo_Picasso/Pablo_Picasso_127.jpg', 'images/Pablo_Picasso/Pablo_Picasso_62.jpg', 'images/Pablo_Picasso/Pablo_Picasso_387.jpg', 'images/Pablo_Picasso/Pablo_Picasso_79.jpg', 'images/Pablo_Picasso/Pablo_Picasso_149.jpg', 'images/Pablo_Picasso/Pablo_Picasso_239.jpg', 'images/Pablo_Picasso/Pablo_Picasso_153.jpg', 'images/Pablo_Picasso/Pablo_Picasso_349.jpg', 'images/Pablo_Picasso/Pablo_Picasso_380.jpg', 'images/Pablo_Picasso/Pablo_Picasso_328.jpg', 'images/Pablo_Picasso/Pablo_Picasso_131.jpg', 'images/Pablo_Picasso/Pablo_Picasso_432.jpg', 'images/Pablo_Picasso/Pablo_Picasso_202.jpg', 'images/Pablo_Picasso/Pablo_Picasso_104.jpg', 'images/Pablo_Picasso/Pablo_Picasso_2.jpg', 'images/Pablo_Picasso/Pablo_Picasso_99.jpg', 'images/Pablo_Picasso/Pablo_Picasso_129.jpg', 'images/Pablo_Picasso/Pablo_Picasso_179.jpg', 'images/Pablo_Picasso/Pablo_Picasso_185.jpg', 'images/Pablo_Picasso/Pablo_Picasso_277.jpg', 'images/Pablo_Picasso/Pablo_Picasso_34.jpg', 'images/Pablo_Picasso/Pablo_Picasso_299.jpg', 'images/Pablo_Picasso/Pablo_Picasso_313.jpg', 'images/Pablo_Picasso/Pablo_Picasso_396.jpg', 'images/Pablo_Picasso/Pablo_Picasso_66.jpg', 'images/Pablo_Picasso/Pablo_Picasso_95.jpg', 'images/Pablo_Picasso/Pablo_Picasso_320.jpg', 'images/Pablo_Picasso/Pablo_Picasso_160.jpg', 'images/Pablo_Picasso/Pablo_Picasso_107.jpg', 'images/Pablo_Picasso/Pablo_Picasso_198.jpg', 'images/Pablo_Picasso/Pablo_Picasso_232.jpg', 'images/Pablo_Picasso/Pablo_Picasso_136.jpg', 'images/Pablo_Picasso/Pablo_Picasso_406.jpg', 'images/Pablo_Picasso/Pablo_Picasso_222.jpg', 'images/Pablo_Picasso/Pablo_Picasso_97.jpg', 'images/Pablo_Picasso/Pablo_Picasso_287.jpg', 'images/Pablo_Picasso/Pablo_Picasso_59.jpg', 'images/Pablo_Picasso/Pablo_Picasso_307.jpg', 'images/Pablo_Picasso/Pablo_Picasso_338.jpg', 'images/Pablo_Picasso/Pablo_Picasso_120.jpg', 'images/Pablo_Picasso/Pablo_Picasso_58.jpg', 'images/Pablo_Picasso/Pablo_Picasso_138.jpg', 'images/Pablo_Picasso/Pablo_Picasso_332.jpg', 'images/Pablo_Picasso/Pablo_Picasso_375.jpg', 'images/Pablo_Picasso/Pablo_Picasso_388.jpg', 'images/Pablo_Picasso/Pablo_Picasso_100.jpg', 'images/Pablo_Picasso/Pablo_Picasso_65.jpg', 'images/Pablo_Picasso/Pablo_Picasso_303.jpg', 'images/Pablo_Picasso/Pablo_Picasso_342.jpg', 'images/Pablo_Picasso/Pablo_Picasso_309.jpg', 'images/Pablo_Picasso/Pablo_Picasso_188.jpg', 'images/Pablo_Picasso/Pablo_Picasso_243.jpg', 'images/Pablo_Picasso/Pablo_Picasso_247.jpg', 'images/Pablo_Picasso/Pablo_Picasso_427.jpg', 'images/Pablo_Picasso/Pablo_Picasso_259.jpg', 'images/Pablo_Picasso/Pablo_Picasso_348.jpg', 'images/Pablo_Picasso/Pablo_Picasso_300.jpg', 'images/Pablo_Picasso/Pablo_Picasso_228.jpg', 'images/Pablo_Picasso/Pablo_Picasso_293.jpg', 'images/Pablo_Picasso/Pablo_Picasso_319.jpg', 'images/Pablo_Picasso/Pablo_Picasso_355.jpg', 'images/Pablo_Picasso/Pablo_Picasso_344.jpg', 'images/Pablo_Picasso/Pablo_Picasso_304.jpg', 'images/Pablo_Picasso/Pablo_Picasso_3.jpg', 'images/Pablo_Picasso/Pablo_Picasso_308.jpg', 'images/Pablo_Picasso/Pablo_Picasso_205.jpg', 'images/Pablo_Picasso/Pablo_Picasso_116.jpg', 'images/Pablo_Picasso/Pablo_Picasso_203.jpg', 'images/Pablo_Picasso/Pablo_Picasso_22.jpg', 'images/Pablo_Picasso/Pablo_Picasso_118.jpg', 'images/Pablo_Picasso/Pablo_Picasso_111.jpg', 'images/Pablo_Picasso/Pablo_Picasso_189.jpg', 'images/Pablo_Picasso/Pablo_Picasso_44.jpg', 'images/Pablo_Picasso/Pablo_Picasso_84.jpg', 'images/Pablo_Picasso/Pablo_Picasso_249.jpg', 'images/Pablo_Picasso/Pablo_Picasso_240.jpg', 'images/Pablo_Picasso/Pablo_Picasso_21.jpg', 'images/Pablo_Picasso/Pablo_Picasso_143.jpg', 'images/Pablo_Picasso/Pablo_Picasso_106.jpg', 'images/Pablo_Picasso/Pablo_Picasso_115.jpg', 'images/Pablo_Picasso/Pablo_Picasso_64.jpg', 'images/Pablo_Picasso/Pablo_Picasso_173.jpg', 'images/Pablo_Picasso/Pablo_Picasso_163.jpg', 'images/Pablo_Picasso/Pablo_Picasso_360.jpg', 'images/Pablo_Picasso/Pablo_Picasso_80.jpg', 'images/Pablo_Picasso/Pablo_Picasso_321.jpg', 'images/Pablo_Picasso/Pablo_Picasso_47.jpg', 'images/Pablo_Picasso/Pablo_Picasso_356.jpg', 'images/Pablo_Picasso/Pablo_Picasso_155.jpg', 'images/Pablo_Picasso/Pablo_Picasso_263.jpg', 'images/Pablo_Picasso/Pablo_Picasso_421.jpg', 'images/Pablo_Picasso/Pablo_Picasso_254.jpg', 'images/Pablo_Picasso/Pablo_Picasso_35.jpg', 'images/Pablo_Picasso/Pablo_Picasso_398.jpg', 'images/Pablo_Picasso/Pablo_Picasso_335.jpg', 'images/Pablo_Picasso/Pablo_Picasso_374.jpg', 'images/Pablo_Picasso/Pablo_Picasso_168.jpg', 'images/Pablo_Picasso/Pablo_Picasso_264.jpg', 'images/Pablo_Picasso/Pablo_Picasso_231.jpg', 'images/Pablo_Picasso/Pablo_Picasso_366.jpg', 'images/Pablo_Picasso/Pablo_Picasso_146.jpg', 'images/Pablo_Picasso/Pablo_Picasso_376.jpg', 'images/Pablo_Picasso/Pablo_Picasso_55.jpg', 'images/Pablo_Picasso/Pablo_Picasso_93.jpg', 'images/Pablo_Picasso/Pablo_Picasso_391.jpg', 'images/Pablo_Picasso/Pablo_Picasso_221.jpg', 'images/Pablo_Picasso/Pablo_Picasso_422.jpg', 'images/Pablo_Picasso/Pablo_Picasso_216.jpg', 'images/Pablo_Picasso/Pablo_Picasso_345.jpg', 'images/Pablo_Picasso/Pablo_Picasso_290.jpg', 'images/Pablo_Picasso/Pablo_Picasso_324.jpg', 'images/Pablo_Picasso/Pablo_Picasso_410.jpg', 'images/Pablo_Picasso/Pablo_Picasso_333.jpg', 'images/Pablo_Picasso/Pablo_Picasso_144.jpg', 'images/Pablo_Picasso/Pablo_Picasso_89.jpg', 'images/Pablo_Picasso/Pablo_Picasso_194.jpg', 'images/Pablo_Picasso/Pablo_Picasso_250.jpg', 'images/Pablo_Picasso/Pablo_Picasso_49.jpg', 'images/Pablo_Picasso/Pablo_Picasso_377.jpg', 'images/Pablo_Picasso/Pablo_Picasso_193.jpg', 'images/Pablo_Picasso/Pablo_Picasso_393.jpg', 'images/Pablo_Picasso/Pablo_Picasso_291.jpg', 'images/Pablo_Picasso/Pablo_Picasso_286.jpg', 'images/Pablo_Picasso/Pablo_Picasso_269.jpg', 'images/Pablo_Picasso/Pablo_Picasso_322.jpg', 'images/Pablo_Picasso/Pablo_Picasso_119.jpg', 'images/Pablo_Picasso/Pablo_Picasso_172.jpg', 'images/Pablo_Picasso/Pablo_Picasso_297.jpg', 'images/Pablo_Picasso/Pablo_Picasso_4.jpg', 'images/Pablo_Picasso/Pablo_Picasso_425.jpg', 'images/Pablo_Picasso/Pablo_Picasso_310.jpg', 'images/Pablo_Picasso/Pablo_Picasso_357.jpg', 'images/Pablo_Picasso/Pablo_Picasso_278.jpg', 'images/Pablo_Picasso/Pablo_Picasso_32.jpg', 'images/Pablo_Picasso/Pablo_Picasso_424.jpg', 'images/Pablo_Picasso/Pablo_Picasso_285.jpg', 'images/Pablo_Picasso/Pablo_Picasso_233.jpg', 'images/Pablo_Picasso/Pablo_Picasso_414.jpg', 'images/Pablo_Picasso/Pablo_Picasso_1.jpg', 'images/Pablo_Picasso/Pablo_Picasso_305.jpg', 'images/Pablo_Picasso/Pablo_Picasso_140.jpg', 'images/Pablo_Picasso/Pablo_Picasso_61.jpg', 'images/Pablo_Picasso/Pablo_Picasso_237.jpg', 'images/Pablo_Picasso/Pablo_Picasso_371.jpg', 'images/Pablo_Picasso/Pablo_Picasso_428.jpg', 'images/Pablo_Picasso/Pablo_Picasso_170.jpg', 'images/Pablo_Picasso/Pablo_Picasso_334.jpg', 'images/Pablo_Picasso/Pablo_Picasso_166.jpg', 'images/Pablo_Picasso/Pablo_Picasso_417.jpg', 'images/Pablo_Picasso/Pablo_Picasso_33.jpg', 'images/Pablo_Picasso/Pablo_Picasso_276.jpg', 'images/Pablo_Picasso/Pablo_Picasso_209.jpg', 'images/Pablo_Picasso/Pablo_Picasso_439.jpg', 'images/Pablo_Picasso/Pablo_Picasso_273.jpg', 'images/Pablo_Picasso/Pablo_Picasso_17.jpg', 'images/Pablo_Picasso/Pablo_Picasso_412.jpg', 'images/Pablo_Picasso/Pablo_Picasso_336.jpg', 'images/Pablo_Picasso/Pablo_Picasso_171.jpg', 'images/Pablo_Picasso/Pablo_Picasso_219.jpg', 'images/Pablo_Picasso/Pablo_Picasso_150.jpg', 'images/Pablo_Picasso/Pablo_Picasso_42.jpg', 'images/Pablo_Picasso/Pablo_Picasso_317.jpg', 'images/Pablo_Picasso/Pablo_Picasso_174.jpg', 'images/Pablo_Picasso/Pablo_Picasso_416.jpg', 'images/Pablo_Picasso/Pablo_Picasso_341.jpg', 'images/Pablo_Picasso/Pablo_Picasso_73.jpg', 'images/Pablo_Picasso/Pablo_Picasso_151.jpg', 'images/Pablo_Picasso/Pablo_Picasso_195.jpg', 'images/Pablo_Picasso/Pablo_Picasso_187.jpg', 'images/Pablo_Picasso/Pablo_Picasso_184.jpg', 'images/Pablo_Picasso/Pablo_Picasso_229.jpg', 'images/Pablo_Picasso/Pablo_Picasso_43.jpg', 'images/Pablo_Picasso/Pablo_Picasso_182.jpg', 'images/Pablo_Picasso/Pablo_Picasso_98.jpg', 'images/Pablo_Picasso/Pablo_Picasso_329.jpg', 'images/Pablo_Picasso/Pablo_Picasso_114.jpg', 'images/Pablo_Picasso/Pablo_Picasso_385.jpg', 'images/Pablo_Picasso/Pablo_Picasso_169.jpg', 'images/Pablo_Picasso/Pablo_Picasso_337.jpg', 'images/Pablo_Picasso/Pablo_Picasso_181.jpg', 'images/Pablo_Picasso/Pablo_Picasso_53.jpg', 'images/Pablo_Picasso/Pablo_Picasso_400.jpg', 'images/Pablo_Picasso/Pablo_Picasso_261.jpg', 'images/Pablo_Picasso/Pablo_Picasso_156.jpg', 'images/Pablo_Picasso/Pablo_Picasso_214.jpg', 'images/Pablo_Picasso/Pablo_Picasso_159.jpg', 'images/Pablo_Picasso/Pablo_Picasso_154.jpg', 'images/Pablo_Picasso/Pablo_Picasso_346.jpg', 'images/Pablo_Picasso/Pablo_Picasso_9.jpg', 'images/Pablo_Picasso/Pablo_Picasso_135.jpg']\n"
          ],
          "name": "stdout"
        }
      ]
    },
    {
      "cell_type": "code",
      "metadata": {
        "id": "uaJVP8lFGaXH",
        "colab_type": "code",
        "colab": {
          "base_uri": "https://localhost:8080/",
          "height": 401
        },
        "outputId": "f70b8b7b-8c46-4d5f-d0a1-c8a678485cd8"
      },
      "source": [
        "child_list = []\n",
        "\n",
        "r_child = []\n",
        "g_child = []\n",
        "b_child = []\n",
        "\n",
        "r_child_data = []\n",
        "g_child_data = []\n",
        "b_child_data = []\n",
        "\n",
        "r_child_list = []\n",
        "g_child_list = []\n",
        "b_child_list = []\n",
        "\n",
        "child_image = 0\n",
        "for child_image in range(len(child_image_list)):\n",
        "  image = Image.open(child_image_list[child_image],'r')\n",
        "  resized_image = image.resize((41,41))\n",
        "\n",
        "  active_child = list(resized_image.getdata())\n",
        "\n",
        "  r_child.append(get_r(active_child))\n",
        "  # r_child_list.append(round(average(r_child[child_image])))\n",
        "  \n",
        "  g_child.append(get_g(active_child))\n",
        "  # g_child_list.append(round(average(g_child[child_image])))\n",
        "\n",
        "  b_child.append(get_b(active_child))\n",
        "  # b_child_list.append(round(average(b_child[child_image])))\n",
        "  # child_list.append(resized_image)\n",
        "  \n",
        "  child_image = child_image + 1\n",
        "\n",
        "# child = 0\n",
        "# for child in range(len(child_list)):\n",
        "#   active_child = list(child_list[child].getdata())\n",
        "\n",
        "#   r_child.append(get_r(active_child))\n",
        "#   r_child_list.append(round(average(r_child[child])))\n",
        "  \n",
        "#   g_child.append(get_g(active_child))\n",
        "#   g_child_list.append(round(average(g_child[child])))\n",
        "\n",
        "#   b_child.append(get_b(active_child))\n",
        "#   b_child_list.append(round(average(b_child[child])))\n",
        "\n",
        "#   child = child + 1"
      ],
      "execution_count": 106,
      "outputs": [
        {
          "output_type": "error",
          "ename": "TypeError",
          "evalue": "ignored",
          "traceback": [
            "\u001b[0;31m---------------------------------------------------------------------------\u001b[0m",
            "\u001b[0;31mTypeError\u001b[0m                                 Traceback (most recent call last)",
            "\u001b[0;32m<ipython-input-106-cfc7a9ac580d>\u001b[0m in \u001b[0;36m<module>\u001b[0;34m()\u001b[0m\n\u001b[1;32m     20\u001b[0m   \u001b[0mactive_child\u001b[0m \u001b[0;34m=\u001b[0m \u001b[0mlist\u001b[0m\u001b[0;34m(\u001b[0m\u001b[0mresized_image\u001b[0m\u001b[0;34m.\u001b[0m\u001b[0mgetdata\u001b[0m\u001b[0;34m(\u001b[0m\u001b[0;34m)\u001b[0m\u001b[0;34m)\u001b[0m\u001b[0;34m\u001b[0m\u001b[0;34m\u001b[0m\u001b[0m\n\u001b[1;32m     21\u001b[0m \u001b[0;34m\u001b[0m\u001b[0m\n\u001b[0;32m---> 22\u001b[0;31m   \u001b[0mr_child\u001b[0m\u001b[0;34m.\u001b[0m\u001b[0mappend\u001b[0m\u001b[0;34m(\u001b[0m\u001b[0mget_r\u001b[0m\u001b[0;34m(\u001b[0m\u001b[0mactive_child\u001b[0m\u001b[0;34m)\u001b[0m\u001b[0;34m)\u001b[0m\u001b[0;34m\u001b[0m\u001b[0;34m\u001b[0m\u001b[0m\n\u001b[0m\u001b[1;32m     23\u001b[0m   \u001b[0;31m# r_child_list.append(round(average(r_child[child_image])))\u001b[0m\u001b[0;34m\u001b[0m\u001b[0;34m\u001b[0m\u001b[0;34m\u001b[0m\u001b[0m\n\u001b[1;32m     24\u001b[0m \u001b[0;34m\u001b[0m\u001b[0m\n",
            "\u001b[0;32m<ipython-input-72-270922cf305e>\u001b[0m in \u001b[0;36mget_r\u001b[0;34m(lst)\u001b[0m\n\u001b[1;32m      1\u001b[0m \u001b[0;32mdef\u001b[0m \u001b[0mget_r\u001b[0m\u001b[0;34m(\u001b[0m\u001b[0mlst\u001b[0m\u001b[0;34m)\u001b[0m\u001b[0;34m:\u001b[0m\u001b[0;34m\u001b[0m\u001b[0;34m\u001b[0m\u001b[0m\n\u001b[0;32m----> 2\u001b[0;31m   \u001b[0;32mreturn\u001b[0m \u001b[0;34m[\u001b[0m\u001b[0mitem\u001b[0m\u001b[0;34m[\u001b[0m\u001b[0;36m0\u001b[0m\u001b[0;34m]\u001b[0m \u001b[0;32mfor\u001b[0m \u001b[0mitem\u001b[0m \u001b[0;32min\u001b[0m \u001b[0mlst\u001b[0m\u001b[0;34m]\u001b[0m\u001b[0;34m\u001b[0m\u001b[0;34m\u001b[0m\u001b[0m\n\u001b[0m\u001b[1;32m      3\u001b[0m \u001b[0;34m\u001b[0m\u001b[0m\n\u001b[1;32m      4\u001b[0m \u001b[0;32mdef\u001b[0m \u001b[0mget_g\u001b[0m\u001b[0;34m(\u001b[0m\u001b[0mlst\u001b[0m\u001b[0;34m)\u001b[0m\u001b[0;34m:\u001b[0m\u001b[0;34m\u001b[0m\u001b[0;34m\u001b[0m\u001b[0m\n\u001b[1;32m      5\u001b[0m   \u001b[0;32mreturn\u001b[0m \u001b[0;34m[\u001b[0m\u001b[0mitem\u001b[0m\u001b[0;34m[\u001b[0m\u001b[0;36m1\u001b[0m\u001b[0;34m]\u001b[0m \u001b[0;32mfor\u001b[0m \u001b[0mitem\u001b[0m \u001b[0;32min\u001b[0m \u001b[0mlst\u001b[0m\u001b[0;34m]\u001b[0m\u001b[0;34m\u001b[0m\u001b[0;34m\u001b[0m\u001b[0m\n",
            "\u001b[0;32m<ipython-input-72-270922cf305e>\u001b[0m in \u001b[0;36m<listcomp>\u001b[0;34m(.0)\u001b[0m\n\u001b[1;32m      1\u001b[0m \u001b[0;32mdef\u001b[0m \u001b[0mget_r\u001b[0m\u001b[0;34m(\u001b[0m\u001b[0mlst\u001b[0m\u001b[0;34m)\u001b[0m\u001b[0;34m:\u001b[0m\u001b[0;34m\u001b[0m\u001b[0;34m\u001b[0m\u001b[0m\n\u001b[0;32m----> 2\u001b[0;31m   \u001b[0;32mreturn\u001b[0m \u001b[0;34m[\u001b[0m\u001b[0mitem\u001b[0m\u001b[0;34m[\u001b[0m\u001b[0;36m0\u001b[0m\u001b[0;34m]\u001b[0m \u001b[0;32mfor\u001b[0m \u001b[0mitem\u001b[0m \u001b[0;32min\u001b[0m \u001b[0mlst\u001b[0m\u001b[0;34m]\u001b[0m\u001b[0;34m\u001b[0m\u001b[0;34m\u001b[0m\u001b[0m\n\u001b[0m\u001b[1;32m      3\u001b[0m \u001b[0;34m\u001b[0m\u001b[0m\n\u001b[1;32m      4\u001b[0m \u001b[0;32mdef\u001b[0m \u001b[0mget_g\u001b[0m\u001b[0;34m(\u001b[0m\u001b[0mlst\u001b[0m\u001b[0;34m)\u001b[0m\u001b[0;34m:\u001b[0m\u001b[0;34m\u001b[0m\u001b[0;34m\u001b[0m\u001b[0m\n\u001b[1;32m      5\u001b[0m   \u001b[0;32mreturn\u001b[0m \u001b[0;34m[\u001b[0m\u001b[0mitem\u001b[0m\u001b[0;34m[\u001b[0m\u001b[0;36m1\u001b[0m\u001b[0;34m]\u001b[0m \u001b[0;32mfor\u001b[0m \u001b[0mitem\u001b[0m \u001b[0;32min\u001b[0m \u001b[0mlst\u001b[0m\u001b[0;34m]\u001b[0m\u001b[0;34m\u001b[0m\u001b[0;34m\u001b[0m\u001b[0m\n",
            "\u001b[0;31mTypeError\u001b[0m: 'int' object is not subscriptable"
          ]
        }
      ]
    },
    {
      "cell_type": "code",
      "metadata": {
        "id": "sYyA-0R9UZrd",
        "colab_type": "code",
        "colab": {
          "base_uri": "https://localhost:8080/",
          "height": 55
        },
        "outputId": "11e3c211-6d25-40dd-8949-cdfb3beb2aa4"
      },
      "source": [
        "print(active_child)"
      ],
      "execution_count": 107,
      "outputs": [
        {
          "output_type": "stream",
          "text": [
            "[10, 10, 0, 8, 18, 0, 1, 7, 0, 0, 3, 36, 15, 4, 0, 14, 0, 20, 151, 7, 15, 4, 11, 6, 17, 13, 24, 10, 8, 10, 5, 8, 64, 22, 5, 0, 55, 36, 94, 69, 30, 0, 0, 118, 0, 128, 0, 163, 1, 29, 12, 0, 0, 5, 89, 106, 32, 11, 0, 17, 18, 31, 19, 1, 0, 49, 7, 5, 16, 18, 13, 161, 0, 133, 21, 11, 50, 209, 175, 188, 123, 118, 56, 33, 190, 0, 191, 223, 215, 141, 200, 176, 222, 178, 9, 17, 229, 101, 56, 0, 238, 7, 0, 2, 6, 2, 9, 7, 15, 3, 33, 115, 19, 2, 105, 65, 112, 63, 165, 0, 70, 76, 212, 193, 221, 245, 17, 192, 190, 107, 0, 255, 18, 3, 6, 1, 0, 198, 92, 241, 16, 0, 8, 1, 8, 30, 7, 11, 14, 31, 2, 21, 12, 6, 23, 5, 0, 28, 231, 135, 0, 75, 86, 151, 88, 96, 219, 118, 0, 157, 202, 181, 193, 8, 178, 63, 81, 92, 35, 0, 233, 3, 14, 0, 26, 5, 3, 4, 1, 13, 7, 19, 4, 1, 44, 0, 201, 216, 97, 42, 1, 106, 242, 1, 0, 177, 138, 125, 236, 235, 5, 243, 165, 4, 249, 34, 196, 193, 219, 224, 235, 8, 20, 205, 14, 4, 13, 0, 5, 13, 9, 13, 6, 6, 21, 126, 123, 201, 237, 144, 103, 25, 155, 115, 0, 214, 3, 185, 22, 2, 134, 78, 209, 214, 227, 0, 157, 98, 173, 55, 137, 174, 12, 63, 4, 0, 65, 0, 17, 9, 1, 1, 6, 2, 5, 49, 60, 3, 227, 136, 12, 0, 13, 46, 13, 166, 141, 42, 111, 72, 14, 191, 53, 175, 180, 17, 0, 131, 157, 190, 204, 45, 13, 237, 15, 19, 0, 60, 208, 0, 0, 4, 6, 4, 2, 37, 128, 3, 162, 2, 169, 40, 128, 1, 25, 128, 0, 123, 255, 41, 100, 166, 183, 3, 225, 244, 53, 59, 141, 137, 20, 0, 155, 143, 70, 0, 0, 19, 9, 80, 16, 8, 5, 37, 4, 14, 4, 16, 88, 50, 16, 209, 163, 173, 118, 102, 10, 32, 172, 94, 162, 127, 153, 226, 170, 248, 0, 0, 103, 152, 192, 0, 122, 246, 239, 84, 151, 141, 199, 108, 23, 0, 3, 23, 24, 7, 10, 4, 37, 94, 0, 123, 20, 0, 0, 19, 54, 174, 94, 0, 249, 166, 189, 219, 147, 214, 64, 255, 195, 14, 249, 160, 0, 198, 122, 196, 114, 211, 1, 32, 23, 21, 123, 2, 11, 1, 11, 19, 15, 1, 234, 132, 59, 0, 109, 0, 48, 0, 5, 12, 33, 232, 189, 203, 62, 108, 0, 73, 145, 82, 147, 221, 209, 131, 58, 190, 18, 65, 99, 0, 12, 97, 255, 17, 17, 12, 17, 0, 12, 3, 251, 149, 71, 16, 74, 9, 108, 53, 52, 16, 0, 13, 201, 139, 105, 142, 222, 0, 65, 12, 81, 5, 196, 166, 133, 139, 184, 31, 34, 160, 146, 200, 73, 137, 126, 14, 9, 12, 34, 7, 80, 162, 12, 0, 2, 0, 9, 150, 5, 4, 56, 43, 105, 173, 239, 219, 76, 150, 120, 20, 114, 57, 132, 196, 208, 58, 180, 146, 255, 7, 237, 202, 138, 40, 255, 181, 244, 21, 18, 124, 11, 205, 0, 217, 68, 22, 183, 191, 114, 164, 0, 120, 91, 0, 225, 167, 181, 231, 225, 18, 148, 203, 147, 9, 139, 156, 7, 66, 39, 187, 60, 72, 165, 46, 17, 31, 189, 153, 6, 0, 3, 134, 166, 105, 176, 201, 2, 160, 148, 177, 192, 161, 2, 4, 142, 221, 124, 92, 137, 216, 147, 0, 29, 15, 19, 179, 217, 206, 170, 0, 7, 1, 106, 121, 153, 179, 0, 112, 1, 8, 14, 4, 193, 128, 140, 31, 13, 3, 88, 1, 139, 37, 91, 68, 8, 239, 175, 211, 65, 101, 191, 27, 110, 12, 88, 25, 115, 70, 70, 100, 28, 9, 19, 0, 132, 207, 46, 4, 255, 134, 0, 29, 0, 204, 52, 143, 3, 141, 153, 125, 171, 104, 167, 177, 87, 57, 52, 242, 186, 90, 205, 165, 0, 47, 206, 208, 206, 114, 0, 113, 8, 14, 0, 116, 72, 255, 11, 18, 113, 251, 156, 16, 0, 3, 211, 162, 158, 135, 200, 95, 251, 159, 199, 11, 186, 8, 130, 234, 235, 225, 183, 162, 6, 0, 7, 218, 193, 22, 6, 53, 10, 3, 0, 81, 188, 0, 19, 0, 111, 204, 13, 125, 10, 23, 4, 101, 184, 129, 217, 198, 170, 113, 129, 208, 120, 131, 162, 162, 132, 204, 222, 242, 201, 68, 113, 168, 215, 125, 0, 0, 0, 5, 22, 16, 59, 255, 61, 234, 29, 34, 14, 35, 188, 177, 16, 69, 158, 215, 225, 34, 140, 154, 47, 199, 215, 142, 218, 62, 215, 73, 190, 202, 108, 69, 34, 0, 182, 116, 20, 179, 61, 2, 2, 9, 101, 209, 73, 214, 56, 52, 1, 4, 227, 3, 170, 1, 0, 0, 195, 227, 101, 159, 255, 12, 42, 163, 245, 159, 158, 161, 196, 183, 148, 145, 98, 19, 1, 224, 232, 217, 112, 4, 10, 8, 255, 27, 255, 16, 9, 57, 0, 172, 239, 160, 23, 74, 124, 6, 149, 59, 230, 0, 148, 119, 169, 0, 200, 0, 196, 25, 158, 163, 155, 113, 190, 70, 61, 32, 255, 255, 140, 176, 0, 0, 15, 222, 0, 59, 25, 19, 36, 100, 102, 0, 131, 4, 0, 0, 0, 176, 211, 225, 228, 161, 80, 0, 100, 42, 38, 120, 17, 228, 181, 102, 247, 106, 132, 127, 109, 193, 242, 49, 208, 0, 0, 10, 250, 110, 154, 32, 2, 158, 10, 149, 36, 79, 59, 15, 63, 0, 6, 173, 44, 131, 137, 162, 255, 245, 0, 130, 193, 157, 154, 240, 228, 181, 117, 6, 24, 145, 44, 6, 0, 0, 124, 154, 5, 182, 37, 170, 71, 184, 192, 79, 142, 74, 81, 116, 227, 17, 7, 247, 172, 113, 239, 194, 105, 113, 185, 255, 110, 26, 107, 128, 76, 162, 142, 219, 77, 166, 9, 61, 207, 10, 23, 2, 0, 9, 20, 4, 18, 92, 66, 143, 74, 151, 132, 0, 53, 4, 0, 19, 168, 253, 4, 216, 154, 188, 157, 89, 161, 167, 10, 94, 221, 81, 177, 83, 173, 2, 31, 87, 3, 112, 0, 6, 0, 12, 0, 59, 5, 8, 162, 99, 113, 92, 156, 169, 1, 51, 0, 15, 33, 158, 137, 231, 37, 5, 55, 69, 186, 114, 194, 134, 38, 207, 221, 117, 197, 24, 10, 24, 4, 4, 44, 7, 7, 196, 12, 29, 12, 8, 0, 154, 150, 9, 172, 173, 198, 12, 132, 19, 12, 7, 123, 0, 106, 96, 222, 149, 176, 249, 175, 91, 12, 35, 125, 174, 169, 142, 244, 32, 0, 94, 43, 160, 71, 112, 17, 5, 17, 13, 7, 14, 143, 0, 93, 150, 2, 75, 190, 37, 201, 170, 13, 8, 0, 255, 75, 0, 11, 242, 253, 5, 217, 13, 17, 117, 227, 246, 84, 158, 0, 0, 17, 15, 42, 124, 58, 77, 228, 3, 0, 13, 0, 74, 12, 34, 157, 20, 90, 195, 108, 167, 124, 11, 57, 0, 166, 123, 199, 5, 147, 179, 0, 165, 6, 0, 10, 0, 144, 186, 108, 14, 28, 0, 93, 90, 43, 42, 0, 0, 0, 1, 67, 8, 63, 192, 99, 23, 71, 2, 138, 6, 187, 4, 40, 23, 160, 100, 69, 158, 0, 106, 132, 249, 191, 93, 0, 0, 14, 0, 146, 48, 138, 0, 142, 147, 32, 62, 31, 189, 25, 3, 12, 0, 105, 28, 189, 0, 13, 0, 0, 175, 160, 94, 0, 192, 18, 35, 118, 88, 223, 0, 162, 38, 181, 118, 4, 41, 11, 54, 105, 72, 155, 51, 189, 251, 163, 12, 142, 0, 0, 0, 33, 173, 4, 0, 22, 17, 61, 227, 33, 26, 169, 49, 89, 71, 254, 0, 103, 41, 0, 0, 196, 210, 22, 0, 72, 0, 7, 8, 0, 58, 143, 21, 0, 33, 105, 0, 8, 0, 53, 27, 29, 0, 15, 149, 13, 7, 63, 174, 224, 5, 5, 59, 255, 255, 172, 219, 15, 158, 14, 0, 41, 235, 124, 132, 0, 3, 50, 0, 21, 3, 228, 32, 2, 29, 14, 8, 10, 0, 197, 158, 150, 10, 11, 73, 18, 233, 85, 0, 15, 186, 242, 114, 30, 74, 65, 207, 231, 2, 72, 246, 0, 22, 150, 24, 36, 0, 63, 255, 11, 9, 12, 77, 114, 116, 5, 0, 19, 57, 60, 0, 78, 201, 159, 5, 18, 24, 24, 75, 0, 83, 167, 154, 20, 0, 88, 4, 110, 148, 5, 66, 99, 0, 24, 13, 25, 0, 74, 8, 31, 22, 5, 6, 0, 79, 0, 30, 0, 28, 18, 0, 21, 6, 60, 0, 28, 43, 15, 2, 111, 0, 10, 110, 16, 63, 57, 204, 17, 190, 170, 24, 0, 15, 237, 45, 0, 112, 93, 165, 33, 104, 26, 3, 15, 7, 0, 0, 8, 24, 141, 105, 0, 101, 30, 0, 14, 78, 121, 167, 71, 8, 149, 63, 212, 195, 228, 147, 254, 85, 255, 192, 0, 36, 38, 248, 85, 6, 129, 79, 9, 6, 98, 6, 9, 4, 17, 10, 46, 9, 14, 12, 26, 227, 54, 109, 123, 237, 8, 1, 52, 177, 0, 128, 0, 61, 16, 220, 0, 253, 6, 0, 0, 7, 44, 92, 26, 9, 0, 117, 0, 0, 2, 51, 109, 3, 6, 6, 2, 153, 89, 0, 127, 2, 16, 47, 140, 0, 146, 2, 34, 235, 184, 68, 0, 0, 0, 46, 238, 0, 2, 41, 0, 64, 13, 155, 96, 0, 193, 34, 80, 5, 19, 0, 7, 187, 21, 0, 8, 10, 0, 0, 65, 11, 99, 60, 10, 0, 175, 90, 82, 0, 111, 63, 98, 1, 112, 0, 15, 8, 0, 74, 30, 26, 143, 173, 148, 27, 4, 10, 8, 90, 142, 26, 33, 67, 0, 79, 7]\n"
          ],
          "name": "stdout"
        }
      ]
    },
    {
      "cell_type": "code",
      "metadata": {
        "id": "8mDWyb62O4aN",
        "colab_type": "code",
        "colab": {
          "base_uri": "https://localhost:8080/",
          "height": 522
        },
        "outputId": "bc621e26-8491-43d3-8ecf-264e2f375f36"
      },
      "source": [
        "r_child = []\n",
        "g_child = []\n",
        "b_child = []\n",
        "\n",
        "r_child_data = []\n",
        "g_child_data = []\n",
        "b_child_data = []\n",
        "\n",
        "r_child_list = []\n",
        "g_child_list = []\n",
        "b_child_list = []\n",
        "\n",
        "pixels = 0\n",
        "for pixels in range(len(child_pixels_list)):    \n",
        "  r_child.append(get_r(child_pixels_list[pixels]))\n",
        "  r_child_list.append(round(average(r_child[pixels])))\n",
        "  \n",
        "  g_child.append(get_g(child_pixels_list[pixels]))\n",
        "  g_child_list.append(round(average(g_child[pixels])))\n",
        "\n",
        "  b_child.append(get_b(child_pixels_list[pixels]))\n",
        "  b_child_list.append(round(average(b_child[pixels])))\n",
        "\n",
        "  pixels = pixels + 1"
      ],
      "execution_count": 66,
      "outputs": [
        {
          "output_type": "error",
          "ename": "TypeError",
          "evalue": "ignored",
          "traceback": [
            "\u001b[0;31m---------------------------------------------------------------------------\u001b[0m",
            "\u001b[0;31mTypeError\u001b[0m                                 Traceback (most recent call last)",
            "\u001b[0;32m<ipython-input-66-c0d764590072>\u001b[0m in \u001b[0;36m<module>\u001b[0;34m()\u001b[0m\n\u001b[1;32m     13\u001b[0m \u001b[0mpixels\u001b[0m \u001b[0;34m=\u001b[0m \u001b[0;36m0\u001b[0m\u001b[0;34m\u001b[0m\u001b[0;34m\u001b[0m\u001b[0m\n\u001b[1;32m     14\u001b[0m \u001b[0;32mfor\u001b[0m \u001b[0mpixels\u001b[0m \u001b[0;32min\u001b[0m \u001b[0mrange\u001b[0m\u001b[0;34m(\u001b[0m\u001b[0mlen\u001b[0m\u001b[0;34m(\u001b[0m\u001b[0mchild_pixels_list\u001b[0m\u001b[0;34m)\u001b[0m\u001b[0;34m)\u001b[0m\u001b[0;34m:\u001b[0m\u001b[0;34m\u001b[0m\u001b[0;34m\u001b[0m\u001b[0m\n\u001b[0;32m---> 15\u001b[0;31m   \u001b[0mr_child\u001b[0m\u001b[0;34m.\u001b[0m\u001b[0mappend\u001b[0m\u001b[0;34m(\u001b[0m\u001b[0mget_r\u001b[0m\u001b[0;34m(\u001b[0m\u001b[0mchild_pixels_list\u001b[0m\u001b[0;34m[\u001b[0m\u001b[0mpixels\u001b[0m\u001b[0;34m]\u001b[0m\u001b[0;34m)\u001b[0m\u001b[0;34m)\u001b[0m\u001b[0;34m\u001b[0m\u001b[0;34m\u001b[0m\u001b[0m\n\u001b[0m\u001b[1;32m     16\u001b[0m   \u001b[0mr_child_list\u001b[0m\u001b[0;34m.\u001b[0m\u001b[0mappend\u001b[0m\u001b[0;34m(\u001b[0m\u001b[0mround\u001b[0m\u001b[0;34m(\u001b[0m\u001b[0maverage\u001b[0m\u001b[0;34m(\u001b[0m\u001b[0mr_child\u001b[0m\u001b[0;34m[\u001b[0m\u001b[0mpixels\u001b[0m\u001b[0;34m]\u001b[0m\u001b[0;34m)\u001b[0m\u001b[0;34m)\u001b[0m\u001b[0;34m)\u001b[0m\u001b[0;34m\u001b[0m\u001b[0;34m\u001b[0m\u001b[0m\n\u001b[1;32m     17\u001b[0m \u001b[0;34m\u001b[0m\u001b[0m\n",
            "\u001b[0;32m<ipython-input-14-270922cf305e>\u001b[0m in \u001b[0;36mget_r\u001b[0;34m(lst)\u001b[0m\n\u001b[1;32m      1\u001b[0m \u001b[0;32mdef\u001b[0m \u001b[0mget_r\u001b[0m\u001b[0;34m(\u001b[0m\u001b[0mlst\u001b[0m\u001b[0;34m)\u001b[0m\u001b[0;34m:\u001b[0m\u001b[0;34m\u001b[0m\u001b[0;34m\u001b[0m\u001b[0m\n\u001b[0;32m----> 2\u001b[0;31m   \u001b[0;32mreturn\u001b[0m \u001b[0;34m[\u001b[0m\u001b[0mitem\u001b[0m\u001b[0;34m[\u001b[0m\u001b[0;36m0\u001b[0m\u001b[0;34m]\u001b[0m \u001b[0;32mfor\u001b[0m \u001b[0mitem\u001b[0m \u001b[0;32min\u001b[0m \u001b[0mlst\u001b[0m\u001b[0;34m]\u001b[0m\u001b[0;34m\u001b[0m\u001b[0;34m\u001b[0m\u001b[0m\n\u001b[0m\u001b[1;32m      3\u001b[0m \u001b[0;34m\u001b[0m\u001b[0m\n\u001b[1;32m      4\u001b[0m \u001b[0;32mdef\u001b[0m \u001b[0mget_g\u001b[0m\u001b[0;34m(\u001b[0m\u001b[0mlst\u001b[0m\u001b[0;34m)\u001b[0m\u001b[0;34m:\u001b[0m\u001b[0;34m\u001b[0m\u001b[0;34m\u001b[0m\u001b[0m\n\u001b[1;32m      5\u001b[0m   \u001b[0;32mreturn\u001b[0m \u001b[0;34m[\u001b[0m\u001b[0mitem\u001b[0m\u001b[0;34m[\u001b[0m\u001b[0;36m1\u001b[0m\u001b[0;34m]\u001b[0m \u001b[0;32mfor\u001b[0m \u001b[0mitem\u001b[0m \u001b[0;32min\u001b[0m \u001b[0mlst\u001b[0m\u001b[0;34m]\u001b[0m\u001b[0;34m\u001b[0m\u001b[0;34m\u001b[0m\u001b[0m\n",
            "\u001b[0;32m<ipython-input-14-270922cf305e>\u001b[0m in \u001b[0;36m<listcomp>\u001b[0;34m(.0)\u001b[0m\n\u001b[1;32m      1\u001b[0m \u001b[0;32mdef\u001b[0m \u001b[0mget_r\u001b[0m\u001b[0;34m(\u001b[0m\u001b[0mlst\u001b[0m\u001b[0;34m)\u001b[0m\u001b[0;34m:\u001b[0m\u001b[0;34m\u001b[0m\u001b[0;34m\u001b[0m\u001b[0m\n\u001b[0;32m----> 2\u001b[0;31m   \u001b[0;32mreturn\u001b[0m \u001b[0;34m[\u001b[0m\u001b[0mitem\u001b[0m\u001b[0;34m[\u001b[0m\u001b[0;36m0\u001b[0m\u001b[0;34m]\u001b[0m \u001b[0;32mfor\u001b[0m \u001b[0mitem\u001b[0m \u001b[0;32min\u001b[0m \u001b[0mlst\u001b[0m\u001b[0;34m]\u001b[0m\u001b[0;34m\u001b[0m\u001b[0;34m\u001b[0m\u001b[0m\n\u001b[0m\u001b[1;32m      3\u001b[0m \u001b[0;34m\u001b[0m\u001b[0m\n\u001b[1;32m      4\u001b[0m \u001b[0;32mdef\u001b[0m \u001b[0mget_g\u001b[0m\u001b[0;34m(\u001b[0m\u001b[0mlst\u001b[0m\u001b[0;34m)\u001b[0m\u001b[0;34m:\u001b[0m\u001b[0;34m\u001b[0m\u001b[0;34m\u001b[0m\u001b[0m\n\u001b[1;32m      5\u001b[0m   \u001b[0;32mreturn\u001b[0m \u001b[0;34m[\u001b[0m\u001b[0mitem\u001b[0m\u001b[0;34m[\u001b[0m\u001b[0;36m1\u001b[0m\u001b[0;34m]\u001b[0m \u001b[0;32mfor\u001b[0m \u001b[0mitem\u001b[0m \u001b[0;32min\u001b[0m \u001b[0mlst\u001b[0m\u001b[0;34m]\u001b[0m\u001b[0;34m\u001b[0m\u001b[0;34m\u001b[0m\u001b[0m\n",
            "\u001b[0;31mTypeError\u001b[0m: 'int' object is not subscriptable"
          ]
        }
      ]
    },
    {
      "cell_type": "code",
      "metadata": {
        "id": "yWi8fVvYRKkE",
        "colab_type": "code",
        "colab": {
          "base_uri": "https://localhost:8080/",
          "height": 55
        },
        "outputId": "cc741316-5d15-4b80-c20e-3889d0909035"
      },
      "source": [
        "print(r_child_list)"
      ],
      "execution_count": 63,
      "outputs": [
        {
          "output_type": "stream",
          "text": [
            "[16, 16, 16, 16, 16, 16, 16, 16, 16, 16, 16, 16, 16, 16, 16, 16, 16, 16, 16, 16, 16, 16, 16, 16, 16, 16, 16, 16, 16, 16, 16, 16, 16, 16, 16, 16, 16, 16, 16, 16, 16, 16, 16, 16, 16, 16, 16, 16, 16, 16, 16, 16, 16, 16, 16, 16, 16, 16, 16, 16, 16, 16, 16, 16, 16, 16, 16, 16, 16, 16, 16, 16, 16, 16, 16, 16, 16, 16, 16, 16, 16, 16, 16, 16, 16, 16, 16, 16, 16, 16, 16, 16, 16, 16, 16, 16, 16, 16, 16, 16, 16, 16, 16, 16, 16, 16, 16, 16, 16, 16, 16, 16, 16, 16, 16, 16, 16, 16, 16, 16, 16, 16, 16, 16, 16, 16, 16, 16, 16, 16, 16, 16, 16, 16, 16, 16, 16, 16, 16, 16, 16, 16, 16, 16, 16, 16, 16, 16, 16, 16, 16, 16, 16, 16, 16, 16, 16, 16, 16, 16, 16, 16, 16, 16, 16, 16, 16, 16, 16, 16, 16, 16, 16, 16, 16, 16, 16, 16, 16, 16, 16, 16, 16, 16, 16, 16, 16, 16, 16, 16, 16, 16, 16, 16, 16, 16, 16, 16, 16, 16, 16, 16, 16, 16, 16, 16, 16, 16, 16, 16, 16, 16, 16, 16, 16, 16, 16, 16, 16, 16, 16, 16, 16, 16, 16, 16, 16, 16, 16, 16, 16, 16, 16, 16, 16, 16, 16, 16, 16, 16, 16, 16, 16, 16, 16, 16, 16, 16, 16, 16, 16, 16, 16, 16, 16, 16, 16, 16, 16, 16, 16, 16, 16, 16, 16, 16, 16, 16, 16, 16, 16, 16, 16, 16, 16, 16, 16, 16, 16, 16, 16, 16, 16, 16, 16, 16, 16, 16, 16, 16, 16, 16, 16, 16, 16, 16, 16, 16, 16, 16, 16, 16, 16, 16, 16, 16, 16, 16, 16, 16, 16, 16, 16, 16, 16, 16, 16, 16, 16, 16, 16, 16, 16, 16, 16, 16, 16, 16, 16, 16, 16, 16, 16, 16, 16, 16, 16, 16, 16, 16, 16, 16, 16, 16, 16, 16, 16, 16, 16, 16, 16, 16, 16, 16, 16, 16, 16, 16, 16, 16, 16, 16, 16, 16, 16, 16, 16, 16, 16, 16, 16, 16, 16, 16, 16, 16, 16, 16, 16, 16, 16, 16, 16, 16, 16, 16, 16, 16, 16, 16, 16, 16, 16, 16, 16, 16, 16, 16, 16, 16, 16, 16, 16, 16, 16, 16, 16, 16, 16, 16, 16, 16, 16, 16, 16, 16, 16, 16, 16, 16, 16, 16, 16, 16, 16, 16, 16, 16, 16, 16, 16, 16, 16, 16, 16, 16, 16, 16, 16]\n"
          ],
          "name": "stdout"
        }
      ]
    }
  ]
}